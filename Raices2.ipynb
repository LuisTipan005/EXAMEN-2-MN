{
 "cells": [
  {
   "cell_type": "code",
   "execution_count": 1,
   "metadata": {},
   "outputs": [
    {
     "data": {
      "text/plain": [
       "[-1.9999999999993179, 5.0, 5.0]"
      ]
     },
     "execution_count": 1,
     "metadata": {},
     "output_type": "execute_result"
    }
   ],
   "source": [
    "import numpy as np\n",
    "from scipy import optimize\n",
    "\n",
    "def f(x):\n",
    "    return x**5 - 6*x**4 + 2*x**3 + 20*x**2 - 27*x + 10\n",
    "\n",
    "# Function to find roots using the bisection method in given intervals\n",
    "def find_roots_bisection(f, intervals):\n",
    "    roots = []\n",
    "    for a, b in intervals:\n",
    "        try:\n",
    "            root = optimize.bisect(f, a, b)\n",
    "            roots.append(root)\n",
    "        except ValueError:\n",
    "            # No root found in the interval\n",
    "            pass\n",
    "    return roots\n",
    "\n",
    "# Define intervals where roots might exist (assumed range for search)\n",
    "intervals = [(-20, -5), (-5, 0), (0, 5), (5, 20)]\n",
    "\n",
    "# Find roots\n",
    "roots = find_roots_bisection(f, intervals)\n",
    "roots_sorted = sorted(roots)  # Sort roots in ascending order\n",
    "\n",
    "roots_sorted"
   ]
  },
  {
   "cell_type": "code",
   "execution_count": null,
   "metadata": {},
   "outputs": [],
   "source": []
  }
 ],
 "metadata": {
  "kernelspec": {
   "display_name": "Python 3",
   "language": "python",
   "name": "python3"
  },
  "language_info": {
   "codemirror_mode": {
    "name": "ipython",
    "version": 3
   },
   "file_extension": ".py",
   "mimetype": "text/x-python",
   "name": "python",
   "nbconvert_exporter": "python",
   "pygments_lexer": "ipython3",
   "version": "3.12.7"
  }
 },
 "nbformat": 4,
 "nbformat_minor": 2
}
